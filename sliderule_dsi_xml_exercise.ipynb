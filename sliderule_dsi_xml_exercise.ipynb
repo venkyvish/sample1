{
 "cells": [
  {
   "cell_type": "markdown",
   "metadata": {},
   "source": [
    "# XML example and exercise\n",
    "****\n",
    "+ study examples of accessing nodes in XML tree structure  \n",
    "+ work on exercise to be completed and submitted\n",
    "****\n",
    "+ reference: https://docs.python.org/2.7/library/xml.etree.elementtree.html\n",
    "+ data source: http://www.dbis.informatik.uni-goettingen.de/Mondial\n",
    "****"
   ]
  },
  {
   "cell_type": "code",
   "execution_count": 1,
   "metadata": {
    "collapsed": true
   },
   "outputs": [],
   "source": [
    "from xml.etree import ElementTree as ET\n",
    "from xml.etree.ElementTree import Element\n",
    "from xml.etree.ElementTree import SubElement\n",
    "import pandas as pd\n",
    "import numpy as np\n",
    "from pandas import DataFrame"
   ]
  },
  {
   "cell_type": "markdown",
   "metadata": {},
   "source": [
    "## XML example\n",
    "\n",
    "+ for details about tree traversal and iterators, see https://docs.python.org/2.7/library/xml.etree.elementtree.html"
   ]
  },
  {
   "cell_type": "code",
   "execution_count": 2,
   "metadata": {
    "collapsed": true
   },
   "outputs": [],
   "source": [
    "document_tree = ET.parse( './data/mondial_database_less.xml' )"
   ]
  },
  {
   "cell_type": "code",
   "execution_count": 3,
   "metadata": {
    "collapsed": false
   },
   "outputs": [
    {
     "name": "stdout",
     "output_type": "stream",
     "text": [
      "Albania\n",
      "Greece\n",
      "Macedonia\n",
      "Serbia\n",
      "Montenegro\n",
      "Kosovo\n",
      "Andorra\n"
     ]
    }
   ],
   "source": [
    "# print names of all countries\n",
    "for child in document_tree.getroot():\n",
    "    print child.find('name').text"
   ]
  },
  {
   "cell_type": "code",
   "execution_count": 5,
   "metadata": {
    "collapsed": false
   },
   "outputs": [
    {
     "name": "stdout",
     "output_type": "stream",
     "text": [
      "* Albania: Tirana, Shkodër, Durrës, Vlorë, Elbasan, Korçë\n",
      "* Greece: Komotini, Kavala, Athina, Peiraias, Peristeri, Acharnes, Patra, Kozani, Kerkyra, Ioannina, Thessaloniki, Iraklio, Chania, Ermoupoli, Rhodes, Tripoli, Lamia, Chalkida, Larissa, Volos, Mytilini, Karyes\n",
      "* Macedonia: Skopje, Kumanovo\n",
      "* Serbia: Beograd, Novi Sad, Niš\n",
      "* Montenegro: Podgorica\n",
      "* Kosovo: Prishtine\n",
      "* Andorra: Andorra la Vella\n"
     ]
    }
   ],
   "source": [
    "# print names of all countries and their cities\n",
    "for element in document_tree.iterfind('country'):\n",
    "    print '* ' + element.find('name').text + ':',\n",
    "    capitals_string = ''\n",
    "    for subelement in element.getiterator('city'):\n",
    "        capitals_string += subelement.find('name').text + ', '\n",
    "    print capitals_string[:-2]"
   ]
  },
  {
   "cell_type": "markdown",
   "metadata": {},
   "source": [
    "****\n",
    "## XML exercise\n",
    "\n",
    "Using data in 'data/mondial_database.xml', the examples above, and refering to https://docs.python.org/2.7/library/xml.etree.elementtree.html, find\n",
    "\n",
    "1. 10 countries with the lowest infant mortality rates\n",
    "2. 10 cities with the largest population\n",
    "3. 10 ethnic groups with the largest overall populations (sum of best/latest estimates over all countries)\n",
    "4. name and country of a) longest river, b) largest lake and c) airport at highest elevation"
   ]
  },
  {
   "cell_type": "code",
   "execution_count": 2,
   "metadata": {
    "collapsed": true
   },
   "outputs": [],
   "source": [
    "document = ET.parse( './data/mondial_database.xml' )"
   ]
  },
  {
   "cell_type": "code",
   "execution_count": 3,
   "metadata": {
    "collapsed": false,
    "scrolled": true
   },
   "outputs": [
    {
     "data": {
      "text/plain": [
       "<xml.etree.ElementTree.ElementTree at 0xaa51b38>"
      ]
     },
     "execution_count": 3,
     "metadata": {},
     "output_type": "execute_result"
    }
   ],
   "source": [
    "document"
   ]
  },
  {
   "cell_type": "code",
   "execution_count": 4,
   "metadata": {
    "collapsed": false
   },
   "outputs": [
    {
     "data": {
      "text/html": [
       "<div>\n",
       "<table border=\"1\" class=\"dataframe\">\n",
       "  <thead>\n",
       "    <tr style=\"text-align: right;\">\n",
       "      <th></th>\n",
       "      <th>Country</th>\n",
       "      <th>Mortality</th>\n",
       "    </tr>\n",
       "  </thead>\n",
       "  <tbody>\n",
       "    <tr>\n",
       "      <th>36</th>\n",
       "      <td>Monaco</td>\n",
       "      <td>1.81</td>\n",
       "    </tr>\n",
       "    <tr>\n",
       "      <th>90</th>\n",
       "      <td>Japan</td>\n",
       "      <td>2.13</td>\n",
       "    </tr>\n",
       "    <tr>\n",
       "      <th>109</th>\n",
       "      <td>Bermuda</td>\n",
       "      <td>2.48</td>\n",
       "    </tr>\n",
       "    <tr>\n",
       "      <th>34</th>\n",
       "      <td>Norway</td>\n",
       "      <td>2.48</td>\n",
       "    </tr>\n",
       "    <tr>\n",
       "      <th>98</th>\n",
       "      <td>Singapore</td>\n",
       "      <td>2.53</td>\n",
       "    </tr>\n",
       "    <tr>\n",
       "      <th>35</th>\n",
       "      <td>Sweden</td>\n",
       "      <td>2.60</td>\n",
       "    </tr>\n",
       "    <tr>\n",
       "      <th>8</th>\n",
       "      <td>Czech Republic</td>\n",
       "      <td>2.63</td>\n",
       "    </tr>\n",
       "    <tr>\n",
       "      <th>72</th>\n",
       "      <td>Hong Kong</td>\n",
       "      <td>2.73</td>\n",
       "    </tr>\n",
       "    <tr>\n",
       "      <th>73</th>\n",
       "      <td>Macao</td>\n",
       "      <td>3.13</td>\n",
       "    </tr>\n",
       "    <tr>\n",
       "      <th>39</th>\n",
       "      <td>Iceland</td>\n",
       "      <td>3.15</td>\n",
       "    </tr>\n",
       "  </tbody>\n",
       "</table>\n",
       "</div>"
      ],
      "text/plain": [
       "            Country  Mortality\n",
       "36           Monaco       1.81\n",
       "90            Japan       2.13\n",
       "109         Bermuda       2.48\n",
       "34           Norway       2.48\n",
       "98        Singapore       2.53\n",
       "35           Sweden       2.60\n",
       "8    Czech Republic       2.63\n",
       "72        Hong Kong       2.73\n",
       "73            Macao       3.13\n",
       "39          Iceland       3.15"
      ]
     },
     "execution_count": 4,
     "metadata": {},
     "output_type": "execute_result"
    }
   ],
   "source": [
    "#10 countries with the lowest mortality rate\n",
    "df = DataFrame(columns=('Country', 'Mortality'))\n",
    "cnt = 0#Counter for indexing\n",
    "for child in document.getroot():\n",
    "    infant1 = child.find('infant_mortality')\n",
    "    if infant1 is not None:\n",
    "        rate = float(child.find('infant_mortality').text)\n",
    "        countryName = child.find('name').text\n",
    "        df.loc[cnt] = [countryName,rate]\n",
    "        cnt = cnt + 1\n",
    "\n",
    "df.sort(['Mortality'])[:10]\n",
    "\n"
   ]
  },
  {
   "cell_type": "code",
   "execution_count": 292,
   "metadata": {
    "collapsed": false
   },
   "outputs": [
    {
     "data": {
      "text/html": [
       "<div>\n",
       "<table border=\"1\" class=\"dataframe\">\n",
       "  <thead>\n",
       "    <tr style=\"text-align: right;\">\n",
       "      <th></th>\n",
       "      <th>City</th>\n",
       "      <th>Population</th>\n",
       "    </tr>\n",
       "  </thead>\n",
       "  <tbody>\n",
       "    <tr>\n",
       "      <th>1278</th>\n",
       "      <td>Shanghai</td>\n",
       "      <td>22315474</td>\n",
       "    </tr>\n",
       "    <tr>\n",
       "      <th>1510</th>\n",
       "      <td>Delhi</td>\n",
       "      <td>12877470</td>\n",
       "    </tr>\n",
       "    <tr>\n",
       "      <th>1455</th>\n",
       "      <td>Mumbai</td>\n",
       "      <td>12442373</td>\n",
       "    </tr>\n",
       "    <tr>\n",
       "      <th>1277</th>\n",
       "      <td>Beijing</td>\n",
       "      <td>11716620</td>\n",
       "    </tr>\n",
       "    <tr>\n",
       "      <th>458</th>\n",
       "      <td>Moscow</td>\n",
       "      <td>11612885</td>\n",
       "    </tr>\n",
       "    <tr>\n",
       "      <th>2490</th>\n",
       "      <td>São Paulo</td>\n",
       "      <td>11152344</td>\n",
       "    </tr>\n",
       "    <tr>\n",
       "      <th>1279</th>\n",
       "      <td>Tianjin</td>\n",
       "      <td>11090314</td>\n",
       "    </tr>\n",
       "    <tr>\n",
       "      <th>1001</th>\n",
       "      <td>Guangzhou</td>\n",
       "      <td>11071424</td>\n",
       "    </tr>\n",
       "    <tr>\n",
       "      <th>1004</th>\n",
       "      <td>Shenzhen</td>\n",
       "      <td>10358381</td>\n",
       "    </tr>\n",
       "    <tr>\n",
       "      <th>1074</th>\n",
       "      <td>Wuhan</td>\n",
       "      <td>9785388</td>\n",
       "    </tr>\n",
       "  </tbody>\n",
       "</table>\n",
       "</div>"
      ],
      "text/plain": [
       "           City  Population\n",
       "1278   Shanghai    22315474\n",
       "1510      Delhi    12877470\n",
       "1455     Mumbai    12442373\n",
       "1277    Beijing    11716620\n",
       "458      Moscow    11612885\n",
       "2490  São Paulo    11152344\n",
       "1279    Tianjin    11090314\n",
       "1001  Guangzhou    11071424\n",
       "1004   Shenzhen    10358381\n",
       "1074      Wuhan     9785388"
      ]
     },
     "execution_count": 292,
     "metadata": {},
     "output_type": "execute_result"
    }
   ],
   "source": [
    "#10 cities with the largest population\n",
    "df1 = DataFrame(columns=('City', 'Population'))\n",
    "cnt1 = 0#Counter for indexing\n",
    "for group in document.findall( 'country/province/city' ):\n",
    "    maxval = 0\n",
    "    mycity = ''\n",
    "    for node in group.getchildren():\n",
    "        if node.tag == 'name':\n",
    "            #print 'city:', node.text\n",
    "            mycity = node.text\n",
    "            \n",
    "        if node.tag == 'population':\n",
    "            if node.attrib.get('measured') == 'census':\n",
    "                #print int(node.text)\n",
    "                if int(node.text) >= maxval:\n",
    "                    maxval = int(node.text) \n",
    "    #print mycity,maxval\n",
    "    df1.loc[cnt1] = [mycity,maxval]\n",
    "    cnt1 = cnt1+1\n",
    "df1.sort(['Population'],ascending=False)[:10]"
   ]
  },
  {
   "cell_type": "code",
   "execution_count": 77,
   "metadata": {
    "collapsed": false
   },
   "outputs": [
    {
     "data": {
      "text/html": [
       "<div>\n",
       "<table border=\"1\" class=\"dataframe\">\n",
       "  <thead>\n",
       "    <tr style=\"text-align: right;\">\n",
       "      <th></th>\n",
       "      <th>Percentage</th>\n",
       "    </tr>\n",
       "    <tr>\n",
       "      <th>EthnicGroup</th>\n",
       "      <th></th>\n",
       "    </tr>\n",
       "  </thead>\n",
       "  <tbody>\n",
       "    <tr>\n",
       "      <th>Albanian</th>\n",
       "      <td>2.1720</td>\n",
       "    </tr>\n",
       "    <tr>\n",
       "      <th>Greek</th>\n",
       "      <td>1.7300</td>\n",
       "    </tr>\n",
       "    <tr>\n",
       "      <th>Macedonian</th>\n",
       "      <td>0.6670</td>\n",
       "    </tr>\n",
       "    <tr>\n",
       "      <th>Turkish</th>\n",
       "      <td>1.2084</td>\n",
       "    </tr>\n",
       "    <tr>\n",
       "      <th>Gypsy</th>\n",
       "      <td>0.0270</td>\n",
       "    </tr>\n",
       "    <tr>\n",
       "      <th>Serb</th>\n",
       "      <td>1.2520</td>\n",
       "    </tr>\n",
       "    <tr>\n",
       "      <th>Montenegrin</th>\n",
       "      <td>0.4390</td>\n",
       "    </tr>\n",
       "    <tr>\n",
       "      <th>Hungarian</th>\n",
       "      <td>1.1350</td>\n",
       "    </tr>\n",
       "    <tr>\n",
       "      <th>Roma</th>\n",
       "      <td>0.1220</td>\n",
       "    </tr>\n",
       "    <tr>\n",
       "      <th>Bosniak</th>\n",
       "      <td>0.4790</td>\n",
       "    </tr>\n",
       "  </tbody>\n",
       "</table>\n",
       "</div>"
      ],
      "text/plain": [
       "             Percentage\n",
       "EthnicGroup            \n",
       "Albanian         2.1720\n",
       "Greek            1.7300\n",
       "Macedonian       0.6670\n",
       "Turkish          1.2084\n",
       "Gypsy            0.0270\n",
       "Serb             1.2520\n",
       "Montenegrin      0.4390\n",
       "Hungarian        1.1350\n",
       "Roma             0.1220\n",
       "Bosniak          0.4790"
      ]
     },
     "execution_count": 77,
     "metadata": {},
     "output_type": "execute_result"
    }
   ],
   "source": [
    "#10 ethnic groups with the largest overall populations (sum of best/latest estimates over all countries)\n",
    "df2 = DataFrame(columns=('EthnicGroup', 'Percentage'))\n",
    "cnt2 = 0\n",
    "for group in document.findall( 'country' ):\n",
    "    for node in group.getchildren():\n",
    "        if node.tag == 'ethnicgroup':\n",
    "             if node.attrib['percentage'] is not None:\n",
    "            #print node.text,float(node.attrib['percentage'])/100\n",
    "                rVal = float(node.attrib['percentage'])/100\n",
    "                df2.loc[cnt2] = [node.text,rVal]\n",
    "                cnt2 = cnt2+1\n",
    "g2 = df2.groupby('EthnicGroup',sort=False).sum()\n",
    "#g2.sort(['Pecentage'],ascending=False)[:10]\n",
    "g2[:10]"
   ]
  },
  {
   "cell_type": "code",
   "execution_count": 72,
   "metadata": {
    "collapsed": false
   },
   "outputs": [
    {
     "data": {
      "text/html": [
       "<div>\n",
       "<table border=\"1\" class=\"dataframe\">\n",
       "  <thead>\n",
       "    <tr style=\"text-align: right;\">\n",
       "      <th></th>\n",
       "      <th>Country</th>\n",
       "      <th>River</th>\n",
       "      <th>Length</th>\n",
       "    </tr>\n",
       "  </thead>\n",
       "  <tbody>\n",
       "    <tr>\n",
       "      <th>174</th>\n",
       "      <td>CO BR PE</td>\n",
       "      <td>Amazonas</td>\n",
       "      <td>6448</td>\n",
       "    </tr>\n",
       "    <tr>\n",
       "      <th>137</th>\n",
       "      <td>CN</td>\n",
       "      <td>Jangtse</td>\n",
       "      <td>6380</td>\n",
       "    </tr>\n",
       "    <tr>\n",
       "      <th>136</th>\n",
       "      <td>CN</td>\n",
       "      <td>Hwangho</td>\n",
       "      <td>4845</td>\n",
       "    </tr>\n",
       "    <tr>\n",
       "      <th>123</th>\n",
       "      <td>R</td>\n",
       "      <td>Lena</td>\n",
       "      <td>4400</td>\n",
       "    </tr>\n",
       "    <tr>\n",
       "      <th>205</th>\n",
       "      <td>RCB ZRE</td>\n",
       "      <td>Zaire</td>\n",
       "      <td>4374</td>\n",
       "    </tr>\n",
       "    <tr>\n",
       "      <th>138</th>\n",
       "      <td>CN LAO THA K VN</td>\n",
       "      <td>Mekong</td>\n",
       "      <td>4350</td>\n",
       "    </tr>\n",
       "    <tr>\n",
       "      <th>115</th>\n",
       "      <td>R KAZ CN</td>\n",
       "      <td>Irtysch</td>\n",
       "      <td>4248</td>\n",
       "    </tr>\n",
       "    <tr>\n",
       "      <th>186</th>\n",
       "      <td>RMM RN WAN RG</td>\n",
       "      <td>Niger</td>\n",
       "      <td>4184</td>\n",
       "    </tr>\n",
       "    <tr>\n",
       "      <th>160</th>\n",
       "      <td>USA</td>\n",
       "      <td>Missouri</td>\n",
       "      <td>4130</td>\n",
       "    </tr>\n",
       "    <tr>\n",
       "      <th>119</th>\n",
       "      <td>R</td>\n",
       "      <td>Jenissej</td>\n",
       "      <td>4092</td>\n",
       "    </tr>\n",
       "  </tbody>\n",
       "</table>\n",
       "</div>"
      ],
      "text/plain": [
       "             Country     River  Length\n",
       "174         CO BR PE  Amazonas    6448\n",
       "137               CN   Jangtse    6380\n",
       "136               CN   Hwangho    4845\n",
       "123                R      Lena    4400\n",
       "205          RCB ZRE     Zaire    4374\n",
       "138  CN LAO THA K VN    Mekong    4350\n",
       "115         R KAZ CN   Irtysch    4248\n",
       "186    RMM RN WAN RG     Niger    4184\n",
       "160              USA  Missouri    4130\n",
       "119                R  Jenissej    4092"
      ]
     },
     "execution_count": 72,
     "metadata": {},
     "output_type": "execute_result"
    }
   ],
   "source": [
    "#4.name and country of a) longest river, b) largest lake and c) airport at highest elevation\n",
    "df3 = DataFrame(columns=('Country', 'River','Length'))\n",
    "cnt3 = 0\n",
    "for group in document.findall( 'river' ):\n",
    "    rCountry = group.attrib['country']\n",
    "    for node in group.getchildren():\n",
    "        if node.tag == 'name':\n",
    "            rName = node.text\n",
    "        if node.tag == 'length':\n",
    "             if node.text is not None:\n",
    "                rLength = float(node.text)\n",
    "    df3.loc[cnt3] = [rCountry,rName,rLength]\n",
    "    cnt3 = cnt3+1\n",
    "df3.sort(['Length'],ascending=False)[:10]\n",
    "\n"
   ]
  },
  {
   "cell_type": "code",
   "execution_count": 70,
   "metadata": {
    "collapsed": false
   },
   "outputs": [
    {
     "data": {
      "text/html": [
       "<div>\n",
       "<table border=\"1\" class=\"dataframe\">\n",
       "  <thead>\n",
       "    <tr style=\"text-align: right;\">\n",
       "      <th></th>\n",
       "      <th>Country</th>\n",
       "      <th>Lake</th>\n",
       "      <th>Area</th>\n",
       "    </tr>\n",
       "  </thead>\n",
       "  <tbody>\n",
       "    <tr>\n",
       "      <th>54</th>\n",
       "      <td>R AZ KAZ IR TM</td>\n",
       "      <td>Caspian Sea</td>\n",
       "      <td>386400</td>\n",
       "    </tr>\n",
       "    <tr>\n",
       "      <th>109</th>\n",
       "      <td>CDN USA</td>\n",
       "      <td>Lake Superior</td>\n",
       "      <td>82103</td>\n",
       "    </tr>\n",
       "    <tr>\n",
       "      <th>81</th>\n",
       "      <td>EAT EAK EAU</td>\n",
       "      <td>Lake Victoria</td>\n",
       "      <td>68870</td>\n",
       "    </tr>\n",
       "    <tr>\n",
       "      <th>106</th>\n",
       "      <td>CDN USA</td>\n",
       "      <td>Lake Huron</td>\n",
       "      <td>59600</td>\n",
       "    </tr>\n",
       "    <tr>\n",
       "      <th>108</th>\n",
       "      <td>USA</td>\n",
       "      <td>Lake Michigan</td>\n",
       "      <td>57800</td>\n",
       "    </tr>\n",
       "    <tr>\n",
       "      <th>47</th>\n",
       "      <td>IL JOR WEST</td>\n",
       "      <td>Dead Sea</td>\n",
       "      <td>41650</td>\n",
       "    </tr>\n",
       "    <tr>\n",
       "      <th>83</th>\n",
       "      <td>ZRE Z BI EAT</td>\n",
       "      <td>Lake Tanganjika</td>\n",
       "      <td>32893</td>\n",
       "    </tr>\n",
       "    <tr>\n",
       "      <th>98</th>\n",
       "      <td>CDN</td>\n",
       "      <td>Great Bear Lake</td>\n",
       "      <td>31792</td>\n",
       "    </tr>\n",
       "    <tr>\n",
       "      <th>43</th>\n",
       "      <td>R</td>\n",
       "      <td>Ozero Baikal</td>\n",
       "      <td>31492</td>\n",
       "    </tr>\n",
       "    <tr>\n",
       "      <th>89</th>\n",
       "      <td>MW MOC EAT</td>\n",
       "      <td>Lake Malawi</td>\n",
       "      <td>29600</td>\n",
       "    </tr>\n",
       "  </tbody>\n",
       "</table>\n",
       "</div>"
      ],
      "text/plain": [
       "            Country             Lake    Area\n",
       "54   R AZ KAZ IR TM      Caspian Sea  386400\n",
       "109         CDN USA    Lake Superior   82103\n",
       "81      EAT EAK EAU    Lake Victoria   68870\n",
       "106         CDN USA       Lake Huron   59600\n",
       "108             USA    Lake Michigan   57800\n",
       "47      IL JOR WEST         Dead Sea   41650\n",
       "83     ZRE Z BI EAT  Lake Tanganjika   32893\n",
       "98              CDN  Great Bear Lake   31792\n",
       "43                R     Ozero Baikal   31492\n",
       "89       MW MOC EAT      Lake Malawi   29600"
      ]
     },
     "execution_count": 70,
     "metadata": {},
     "output_type": "execute_result"
    }
   ],
   "source": [
    "df4 = DataFrame(columns=('Country', 'Lake','Area'))\n",
    "cnt3 = 0\n",
    "for group in document.findall( 'lake' ):\n",
    "    rCountry = group.attrib['country']\n",
    "    for node in group.getchildren():\n",
    "        if node.tag == 'name':\n",
    "            rName = node.text\n",
    "        if node.tag == 'area':\n",
    "             if node.text is not None:\n",
    "                    rLength = float(node.text)\n",
    "    df4.loc[cnt3] = [rCountry,rName,rLength]\n",
    "    cnt3 = cnt3+1\n",
    "df4.sort(['Area'],ascending=False)[:10]"
   ]
  },
  {
   "cell_type": "code",
   "execution_count": 69,
   "metadata": {
    "collapsed": false
   },
   "outputs": [
    {
     "data": {
      "text/html": [
       "<div>\n",
       "<table border=\"1\" class=\"dataframe\">\n",
       "  <thead>\n",
       "    <tr style=\"text-align: right;\">\n",
       "      <th></th>\n",
       "      <th>Country</th>\n",
       "      <th>Airport</th>\n",
       "      <th>Elevation</th>\n",
       "    </tr>\n",
       "  </thead>\n",
       "  <tbody>\n",
       "    <tr>\n",
       "      <th>80</th>\n",
       "      <td>BOL</td>\n",
       "      <td>El Alto Intl</td>\n",
       "      <td>4063</td>\n",
       "    </tr>\n",
       "    <tr>\n",
       "      <th>219</th>\n",
       "      <td>CN</td>\n",
       "      <td>Lhasa-Gonggar</td>\n",
       "      <td>4005</td>\n",
       "    </tr>\n",
       "    <tr>\n",
       "      <th>241</th>\n",
       "      <td>CN</td>\n",
       "      <td>Yushu Batang</td>\n",
       "      <td>3963</td>\n",
       "    </tr>\n",
       "    <tr>\n",
       "      <th>242</th>\n",
       "      <td>CN</td>\n",
       "      <td>Anqing Airport</td>\n",
       "      <td>3963</td>\n",
       "    </tr>\n",
       "    <tr>\n",
       "      <th>243</th>\n",
       "      <td>CN</td>\n",
       "      <td>Changde Airport</td>\n",
       "      <td>3963</td>\n",
       "    </tr>\n",
       "    <tr>\n",
       "      <th>813</th>\n",
       "      <td>PE</td>\n",
       "      <td>Juliaca</td>\n",
       "      <td>3827</td>\n",
       "    </tr>\n",
       "    <tr>\n",
       "      <th>815</th>\n",
       "      <td>PE</td>\n",
       "      <td>Teniente Alejandro Velasco Astete Intl</td>\n",
       "      <td>3311</td>\n",
       "    </tr>\n",
       "    <tr>\n",
       "      <th>82</th>\n",
       "      <td>BOL</td>\n",
       "      <td>Juana Azurduy De Padilla</td>\n",
       "      <td>2905</td>\n",
       "    </tr>\n",
       "    <tr>\n",
       "      <th>334</th>\n",
       "      <td>EC</td>\n",
       "      <td>Mariscal Sucre Intl</td>\n",
       "      <td>2813</td>\n",
       "    </tr>\n",
       "    <tr>\n",
       "      <th>805</th>\n",
       "      <td>PE</td>\n",
       "      <td>Coronel Fap Alfredo Mendivil Duarte</td>\n",
       "      <td>2719</td>\n",
       "    </tr>\n",
       "  </tbody>\n",
       "</table>\n",
       "</div>"
      ],
      "text/plain": [
       "    Country                                 Airport  Elevation\n",
       "80      BOL                            El Alto Intl       4063\n",
       "219      CN                           Lhasa-Gonggar       4005\n",
       "241      CN                            Yushu Batang       3963\n",
       "242      CN                          Anqing Airport       3963\n",
       "243      CN                         Changde Airport       3963\n",
       "813      PE                                 Juliaca       3827\n",
       "815      PE  Teniente Alejandro Velasco Astete Intl       3311\n",
       "82      BOL                Juana Azurduy De Padilla       2905\n",
       "334      EC                     Mariscal Sucre Intl       2813\n",
       "805      PE     Coronel Fap Alfredo Mendivil Duarte       2719"
      ]
     },
     "execution_count": 69,
     "metadata": {},
     "output_type": "execute_result"
    }
   ],
   "source": [
    "df5 = DataFrame(columns=('Country', 'Airport','Elevation'))\n",
    "cnt3 = 0\n",
    "for group in document.findall( 'airport' ):\n",
    "    rCountry = group.attrib['country']\n",
    "    for node in group.getchildren():\n",
    "        if node.tag == 'name':\n",
    "            rName = node.text\n",
    "        if node.tag == 'elevation':\n",
    "            if node.text is not None:\n",
    "                rLength = float(node.text)\n",
    "    df5.loc[cnt3] = [rCountry,rName,rLength]\n",
    "    cnt3 = cnt3+1\n",
    "df5.sort_index(by = 'Elevation',ascending=False)[:10]\n"
   ]
  },
  {
   "cell_type": "code",
   "execution_count": null,
   "metadata": {
    "collapsed": true
   },
   "outputs": [],
   "source": []
  }
 ],
 "metadata": {
  "kernelspec": {
   "display_name": "Python 2",
   "language": "python",
   "name": "python2"
  },
  "language_info": {
   "codemirror_mode": {
    "name": "ipython",
    "version": 2
   },
   "file_extension": ".py",
   "mimetype": "text/x-python",
   "name": "python",
   "nbconvert_exporter": "python",
   "pygments_lexer": "ipython2",
   "version": "2.7.10"
  }
 },
 "nbformat": 4,
 "nbformat_minor": 0
}
